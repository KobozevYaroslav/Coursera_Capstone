{
    "cells": [
        {
            "metadata": {
                "collapsed": true
            },
            "cell_type": "markdown",
            "source": "# This notebook will be mainly used for the capstone project"
        },
        {
            "metadata": {},
            "cell_type": "code",
            "source": "import pandas as pd\nimport numpy as np",
            "execution_count": 1,
            "outputs": []
        },
        {
            "metadata": {},
            "cell_type": "code",
            "source": "print('Hello Capstone Project Course!')",
            "execution_count": 2,
            "outputs": [
                {
                    "output_type": "stream",
                    "text": "Hello Capstone Project Course!\n",
                    "name": "stdout"
                }
            ]
        },
        {
            "metadata": {},
            "cell_type": "markdown",
            "source": "Segmenting and Clustering Neighborhoods in Toronto"
        },
        {
            "metadata": {
                "scrolled": true
            },
            "cell_type": "code",
            "source": "pip install requests beautifulsoup4",
            "execution_count": 3,
            "outputs": [
                {
                    "output_type": "stream",
                    "text": "Requirement already satisfied: requests in /opt/conda/envs/Python-3.7-main/lib/python3.7/site-packages (2.24.0)\nRequirement already satisfied: beautifulsoup4 in /opt/conda/envs/Python-3.7-main/lib/python3.7/site-packages (4.9.1)\nRequirement already satisfied: chardet<4,>=3.0.2 in /opt/conda/envs/Python-3.7-main/lib/python3.7/site-packages (from requests) (3.0.4)\nRequirement already satisfied: idna<3,>=2.5 in /opt/conda/envs/Python-3.7-main/lib/python3.7/site-packages (from requests) (2.9)\nRequirement already satisfied: urllib3!=1.25.0,!=1.25.1,<1.26,>=1.21.1 in /opt/conda/envs/Python-3.7-main/lib/python3.7/site-packages (from requests) (1.25.9)\nRequirement already satisfied: certifi>=2017.4.17 in /opt/conda/envs/Python-3.7-main/lib/python3.7/site-packages (from requests) (2020.12.5)\nRequirement already satisfied: soupsieve>1.2 in /opt/conda/envs/Python-3.7-main/lib/python3.7/site-packages (from beautifulsoup4) (2.0.1)\nNote: you may need to restart the kernel to use updated packages.\n",
                    "name": "stdout"
                }
            ]
        },
        {
            "metadata": {},
            "cell_type": "code",
            "source": "import urllib.request",
            "execution_count": 4,
            "outputs": []
        },
        {
            "metadata": {},
            "cell_type": "code",
            "source": "# specify which URL/web page we are going to be scraping\nurl = \"https://en.wikipedia.org/wiki/List_of_postal_codes_of_Canada:_M\"",
            "execution_count": 5,
            "outputs": []
        },
        {
            "metadata": {},
            "cell_type": "code",
            "source": "page = urllib.request.urlopen(url)",
            "execution_count": 6,
            "outputs": []
        },
        {
            "metadata": {},
            "cell_type": "code",
            "source": "from bs4 import BeautifulSoup",
            "execution_count": 7,
            "outputs": []
        },
        {
            "metadata": {},
            "cell_type": "code",
            "source": "soup = BeautifulSoup(page, \"lxml\")",
            "execution_count": 8,
            "outputs": []
        },
        {
            "metadata": {},
            "cell_type": "code",
            "source": "all_tables=soup.find_all(\"table\")\nall_tables",
            "execution_count": 9,
            "outputs": [
                {
                    "output_type": "execute_result",
                    "execution_count": 9,
                    "data": {
                        "text/plain": "[<table class=\"wikitable sortable\">\n <tbody><tr>\n <th>Postal Code\n </th>\n <th>Borough\n </th>\n <th>Neighbourhood\n </th></tr>\n <tr>\n <td>M1A\n </td>\n <td>Not assigned\n </td>\n <td>Not assigned\n </td></tr>\n <tr>\n <td>M2A\n </td>\n <td>Not assigned\n </td>\n <td>Not assigned\n </td></tr>\n <tr>\n <td>M3A\n </td>\n <td>North York\n </td>\n <td>Parkwoods\n </td></tr>\n <tr>\n <td>M4A\n </td>\n <td>North York\n </td>\n <td>Victoria Village\n </td></tr>\n <tr>\n <td>M5A\n </td>\n <td>Downtown Toronto\n </td>\n <td>Regent Park, Harbourfront\n </td></tr>\n <tr>\n <td>M6A\n </td>\n <td>North York\n </td>\n <td>Lawrence Manor, Lawrence Heights\n </td></tr>\n <tr>\n <td>M7A\n </td>\n <td>Downtown Toronto\n </td>\n <td>Queen's Park, Ontario Provincial Government\n </td></tr>\n <tr>\n <td>M8A\n </td>\n <td>Not assigned\n </td>\n <td>Not assigned\n </td></tr>\n <tr>\n <td>M9A\n </td>\n <td>Etobicoke\n </td>\n <td>Islington Avenue, Humber Valley Village\n </td></tr>\n <tr>\n <td>M1B\n </td>\n <td>Scarborough\n </td>\n <td>Malvern, Rouge\n </td></tr>\n <tr>\n <td>M2B\n </td>\n <td>Not assigned\n </td>\n <td>Not assigned\n </td></tr>\n <tr>\n <td>M3B\n </td>\n <td>North York\n </td>\n <td>Don Mills\n </td></tr>\n <tr>\n <td>M4B\n </td>\n <td>East York\n </td>\n <td>Parkview Hill, Woodbine Gardens\n </td></tr>\n <tr>\n <td>M5B\n </td>\n <td>Downtown Toronto\n </td>\n <td>Garden District, Ryerson\n </td></tr>\n <tr>\n <td>M6B\n </td>\n <td>North York\n </td>\n <td>Glencairn\n </td></tr>\n <tr>\n <td>M7B\n </td>\n <td>Not assigned\n </td>\n <td>Not assigned\n </td></tr>\n <tr>\n <td>M8B\n </td>\n <td>Not assigned\n </td>\n <td>Not assigned\n </td></tr>\n <tr>\n <td>M9B\n </td>\n <td>Etobicoke\n </td>\n <td>West Deane Park, Princess Gardens, Martin Grove, Islington, Cloverdale\n </td></tr>\n <tr>\n <td>M1C\n </td>\n <td>Scarborough\n </td>\n <td>Rouge Hill, Port Union, Highland Creek\n </td></tr>\n <tr>\n <td>M2C\n </td>\n <td>Not assigned\n </td>\n <td>Not assigned\n </td></tr>\n <tr>\n <td>M3C\n </td>\n <td>North York\n </td>\n <td>Don Mills\n </td></tr>\n <tr>\n <td>M4C\n </td>\n <td>East York\n </td>\n <td>Woodbine Heights\n </td></tr>\n <tr>\n <td>M5C\n </td>\n <td>Downtown Toronto\n </td>\n <td>St. James Town\n </td></tr>\n <tr>\n <td>M6C\n </td>\n <td>York\n </td>\n <td>Humewood-Cedarvale\n </td></tr>\n <tr>\n <td>M7C\n </td>\n <td>Not assigned\n </td>\n <td>Not assigned\n </td></tr>\n <tr>\n <td>M8C\n </td>\n <td>Not assigned\n </td>\n <td>Not assigned\n </td></tr>\n <tr>\n <td>M9C\n </td>\n <td>Etobicoke\n </td>\n <td>Eringate, Bloordale Gardens, Old Burnhamthorpe, Markland Wood\n </td></tr>\n <tr>\n <td>M1E\n </td>\n <td>Scarborough\n </td>\n <td>Guildwood, Morningside, West Hill\n </td></tr>\n <tr>\n <td>M2E\n </td>\n <td>Not assigned\n </td>\n <td>Not assigned\n </td></tr>\n <tr>\n <td>M3E\n </td>\n <td>Not assigned\n </td>\n <td>Not assigned\n </td></tr>\n <tr>\n <td>M4E\n </td>\n <td>East Toronto\n </td>\n <td>The Beaches\n </td></tr>\n <tr>\n <td>M5E\n </td>\n <td>Downtown Toronto\n </td>\n <td>Berczy Park\n </td></tr>\n <tr>\n <td>M6E\n </td>\n <td>York\n </td>\n <td>Caledonia-Fairbanks\n </td></tr>\n <tr>\n <td>M7E\n </td>\n <td>Not assigned\n </td>\n <td>Not assigned\n </td></tr>\n <tr>\n <td>M8E\n </td>\n <td>Not assigned\n </td>\n <td>Not assigned\n </td></tr>\n <tr>\n <td>M9E\n </td>\n <td>Not assigned\n </td>\n <td>Not assigned\n </td></tr>\n <tr>\n <td>M1G\n </td>\n <td>Scarborough\n </td>\n <td>Woburn\n </td></tr>\n <tr>\n <td>M2G\n </td>\n <td>Not assigned\n </td>\n <td>Not assigned\n </td></tr>\n <tr>\n <td>M3G\n </td>\n <td>Not assigned\n </td>\n <td>Not assigned\n </td></tr>\n <tr>\n <td>M4G\n </td>\n <td>East York\n </td>\n <td>Leaside\n </td></tr>\n <tr>\n <td>M5G\n </td>\n <td>Downtown Toronto\n </td>\n <td>Central Bay Street\n </td></tr>\n <tr>\n <td>M6G\n </td>\n <td>Downtown Toronto\n </td>\n <td>Christie\n </td></tr>\n <tr>\n <td>M7G\n </td>\n <td>Not assigned\n </td>\n <td>Not assigned\n </td></tr>\n <tr>\n <td>M8G\n </td>\n <td>Not assigned\n </td>\n <td>Not assigned\n </td></tr>\n <tr>\n <td>M9G\n </td>\n <td>Not assigned\n </td>\n <td>Not assigned\n </td></tr>\n <tr>\n <td>M1H\n </td>\n <td>Scarborough\n </td>\n <td>Cedarbrae\n </td></tr>\n <tr>\n <td>M2H\n </td>\n <td>North York\n </td>\n <td>Hillcrest Village\n </td></tr>\n <tr>\n <td>M3H\n </td>\n <td>North York\n </td>\n <td>Bathurst Manor, Wilson Heights, Downsview North\n </td></tr>\n <tr>\n <td>M4H\n </td>\n <td>East York\n </td>\n <td>Thorncliffe Park\n </td></tr>\n <tr>\n <td>M5H\n </td>\n <td>Downtown Toronto\n </td>\n <td>Richmond, Adelaide, King\n </td></tr>\n <tr>\n <td>M6H\n </td>\n <td>West Toronto\n </td>\n <td>Dufferin, Dovercourt Village\n </td></tr>\n <tr>\n <td>M7H\n </td>\n <td>Not assigned\n </td>\n <td>Not assigned\n </td></tr>\n <tr>\n <td>M8H\n </td>\n <td>Not assigned\n </td>\n <td>Not assigned\n </td></tr>\n <tr>\n <td>M9H\n </td>\n <td>Not assigned\n </td>\n <td>Not assigned\n </td></tr>\n <tr>\n <td>M1J\n </td>\n <td>Scarborough\n </td>\n <td>Scarborough Village\n </td></tr>\n <tr>\n <td>M2J\n </td>\n <td>North York\n </td>\n <td>Fairview, Henry Farm, Oriole\n </td></tr>\n <tr>\n <td>M3J\n </td>\n <td>North York\n </td>\n <td>Northwood Park, York University\n </td></tr>\n <tr>\n <td>M4J\n </td>\n <td>East York\n </td>\n <td>East Toronto, Broadview North (Old East York)\n </td></tr>\n <tr>\n <td>M5J\n </td>\n <td>Downtown Toronto\n </td>\n <td>Harbourfront East, Union Station, Toronto Islands\n </td></tr>\n <tr>\n <td>M6J\n </td>\n <td>West Toronto\n </td>\n <td>Little Portugal, Trinity\n </td></tr>\n <tr>\n <td>M7J\n </td>\n <td>Not assigned\n </td>\n <td>Not assigned\n </td></tr>\n <tr>\n <td>M8J\n </td>\n <td>Not assigned\n </td>\n <td>Not assigned\n </td></tr>\n <tr>\n <td>M9J\n </td>\n <td>Not assigned\n </td>\n <td>Not assigned\n </td></tr>\n <tr>\n <td>M1K\n </td>\n <td>Scarborough\n </td>\n <td>Kennedy Park, Ionview, East Birchmount Park\n </td></tr>\n <tr>\n <td>M2K\n </td>\n <td>North York\n </td>\n <td>Bayview Village\n </td></tr>\n <tr>\n <td>M3K\n </td>\n <td>North York\n </td>\n <td>Downsview\n </td></tr>\n <tr>\n <td>M4K\n </td>\n <td>East Toronto\n </td>\n <td>The Danforth West, Riverdale\n </td></tr>\n <tr>\n <td>M5K\n </td>\n <td>Downtown Toronto\n </td>\n <td>Toronto Dominion Centre, Design Exchange\n </td></tr>\n <tr>\n <td>M6K\n </td>\n <td>West Toronto\n </td>\n <td>Brockton, Parkdale Village, Exhibition Place\n </td></tr>\n <tr>\n <td>M7K\n </td>\n <td>Not assigned\n </td>\n <td>Not assigned\n </td></tr>\n <tr>\n <td>M8K\n </td>\n <td>Not assigned\n </td>\n <td>Not assigned\n </td></tr>\n <tr>\n <td>M9K\n </td>\n <td>Not assigned\n </td>\n <td>Not assigned\n </td></tr>\n <tr>\n <td>M1L\n </td>\n <td>Scarborough\n </td>\n <td>Golden Mile, Clairlea, Oakridge\n </td></tr>\n <tr>\n <td>M2L\n </td>\n <td>North York\n </td>\n <td>York Mills, Silver Hills\n </td></tr>\n <tr>\n <td>M3L\n </td>\n <td>North York\n </td>\n <td>Downsview\n </td></tr>\n <tr>\n <td>M4L\n </td>\n <td>East Toronto\n </td>\n <td>India Bazaar, The Beaches West\n </td></tr>\n <tr>\n <td>M5L\n </td>\n <td>Downtown Toronto\n </td>\n <td>Commerce Court, Victoria Hotel\n </td></tr>\n <tr>\n <td>M6L\n </td>\n <td>North York\n </td>\n <td>North Park, Maple Leaf Park, Upwood Park\n </td></tr>\n <tr>\n <td>M7L\n </td>\n <td>Not assigned\n </td>\n <td>Not assigned\n </td></tr>\n <tr>\n <td>M8L\n </td>\n <td>Not assigned\n </td>\n <td>Not assigned\n </td></tr>\n <tr>\n <td>M9L\n </td>\n <td>North York\n </td>\n <td>Humber Summit\n </td></tr>\n <tr>\n <td>M1M\n </td>\n <td>Scarborough\n </td>\n <td>Cliffside, Cliffcrest, Scarborough Village West\n </td></tr>\n <tr>\n <td>M2M\n </td>\n <td>North York\n </td>\n <td>Willowdale, Newtonbrook\n </td></tr>\n <tr>\n <td>M3M\n </td>\n <td>North York\n </td>\n <td>Downsview\n </td></tr>\n <tr>\n <td>M4M\n </td>\n <td>East Toronto\n </td>\n <td>Studio District\n </td></tr>\n <tr>\n <td>M5M\n </td>\n <td>North York\n </td>\n <td>Bedford Park, Lawrence Manor East\n </td></tr>\n <tr>\n <td>M6M\n </td>\n <td>York\n </td>\n <td>Del Ray, Mount Dennis, Keelsdale and Silverthorn\n </td></tr>\n <tr>\n <td>M7M\n </td>\n <td>Not assigned\n </td>\n <td>Not assigned\n </td></tr>\n <tr>\n <td>M8M\n </td>\n <td>Not assigned\n </td>\n <td>Not assigned\n </td></tr>\n <tr>\n <td>M9M\n </td>\n <td>North York\n </td>\n <td>Humberlea, Emery\n </td></tr>\n <tr>\n <td>M1N\n </td>\n <td>Scarborough\n </td>\n <td>Birch Cliff, Cliffside West\n </td></tr>\n <tr>\n <td>M2N\n </td>\n <td>North York\n </td>\n <td>Willowdale, Willowdale East\n </td></tr>\n <tr>\n <td>M3N\n </td>\n <td>North York\n </td>\n <td>Downsview\n </td></tr>\n <tr>\n <td>M4N\n </td>\n <td>Central Toronto\n </td>\n <td>Lawrence Park\n </td></tr>\n <tr>\n <td>M5N\n </td>\n <td>Central Toronto\n </td>\n <td>Roselawn\n </td></tr>\n <tr>\n <td>M6N\n </td>\n <td>York\n </td>\n <td>Runnymede, The Junction North\n </td></tr>\n <tr>\n <td>M7N\n </td>\n <td>Not assigned\n </td>\n <td>Not assigned\n </td></tr>\n <tr>\n <td>M8N\n </td>\n <td>Not assigned\n </td>\n <td>Not assigned\n </td></tr>\n <tr>\n <td>M9N\n </td>\n <td>York\n </td>\n <td>Weston\n </td></tr>\n <tr>\n <td>M1P\n </td>\n <td>Scarborough\n </td>\n <td>Dorset Park, Wexford Heights, Scarborough Town Centre\n </td></tr>\n <tr>\n <td>M2P\n </td>\n <td>North York\n </td>\n <td>York Mills West\n </td></tr>\n <tr>\n <td>M3P\n </td>\n <td>Not assigned\n </td>\n <td>Not assigned\n </td></tr>\n <tr>\n <td>M4P\n </td>\n <td>Central Toronto\n </td>\n <td>Davisville North\n </td></tr>\n <tr>\n <td>M5P\n </td>\n <td>Central Toronto\n </td>\n <td>Forest Hill North &amp; West, Forest Hill Road Park\n </td></tr>\n <tr>\n <td>M6P\n </td>\n <td>West Toronto\n </td>\n <td>High Park, The Junction South\n </td></tr>\n <tr>\n <td>M7P\n </td>\n <td>Not assigned\n </td>\n <td>Not assigned\n </td></tr>\n <tr>\n <td>M8P\n </td>\n <td>Not assigned\n </td>\n <td>Not assigned\n </td></tr>\n <tr>\n <td>M9P\n </td>\n <td>Etobicoke\n </td>\n <td>Westmount\n </td></tr>\n <tr>\n <td>M1R\n </td>\n <td>Scarborough\n </td>\n <td>Wexford, Maryvale\n </td></tr>\n <tr>\n <td>M2R\n </td>\n <td>North York\n </td>\n <td>Willowdale, Willowdale West\n </td></tr>\n <tr>\n <td>M3R\n </td>\n <td>Not assigned\n </td>\n <td>Not assigned\n </td></tr>\n <tr>\n <td>M4R\n </td>\n <td>Central Toronto\n </td>\n <td>North Toronto West,  Lawrence Park\n </td></tr>\n <tr>\n <td>M5R\n </td>\n <td>Central Toronto\n </td>\n <td>The Annex, North Midtown, Yorkville\n </td></tr>\n <tr>\n <td>M6R\n </td>\n <td>West Toronto\n </td>\n <td>Parkdale, Roncesvalles\n </td></tr>\n <tr>\n <td>M7R\n </td>\n <td>Mississauga\n </td>\n <td>Canada Post Gateway Processing Centre\n </td></tr>\n <tr>\n <td>M8R\n </td>\n <td>Not assigned\n </td>\n <td>Not assigned\n </td></tr>\n <tr>\n <td>M9R\n </td>\n <td>Etobicoke\n </td>\n <td>Kingsview Village, St. Phillips, Martin Grove Gardens, Richview Gardens\n </td></tr>\n <tr>\n <td>M1S\n </td>\n <td>Scarborough\n </td>\n <td>Agincourt\n </td></tr>\n <tr>\n <td>M2S\n </td>\n <td>Not assigned\n </td>\n <td>Not assigned\n </td></tr>\n <tr>\n <td>M3S\n </td>\n <td>Not assigned\n </td>\n <td>Not assigned\n </td></tr>\n <tr>\n <td>M4S\n </td>\n <td>Central Toronto\n </td>\n <td>Davisville\n </td></tr>\n <tr>\n <td>M5S\n </td>\n <td>Downtown Toronto\n </td>\n <td>University of Toronto, Harbord\n </td></tr>\n <tr>\n <td>M6S\n </td>\n <td>West Toronto\n </td>\n <td>Runnymede, Swansea\n </td></tr>\n <tr>\n <td>M7S\n </td>\n <td>Not assigned\n </td>\n <td>Not assigned\n </td></tr>\n <tr>\n <td>M8S\n </td>\n <td>Not assigned\n </td>\n <td>Not assigned\n </td></tr>\n <tr>\n <td>M9S\n </td>\n <td>Not assigned\n </td>\n <td>Not assigned\n </td></tr>\n <tr>\n <td>M1T\n </td>\n <td>Scarborough\n </td>\n <td>Clarks Corners, Tam O'Shanter, Sullivan\n </td></tr>\n <tr>\n <td>M2T\n </td>\n <td>Not assigned\n </td>\n <td>Not assigned\n </td></tr>\n <tr>\n <td>M3T\n </td>\n <td>Not assigned\n </td>\n <td>Not assigned\n </td></tr>\n <tr>\n <td>M4T\n </td>\n <td>Central Toronto\n </td>\n <td>Moore Park, Summerhill East\n </td></tr>\n <tr>\n <td>M5T\n </td>\n <td>Downtown Toronto\n </td>\n <td>Kensington Market, Chinatown, Grange Park\n </td></tr>\n <tr>\n <td>M6T\n </td>\n <td>Not assigned\n </td>\n <td>Not assigned\n </td></tr>\n <tr>\n <td>M7T\n </td>\n <td>Not assigned\n </td>\n <td>Not assigned\n </td></tr>\n <tr>\n <td>M8T\n </td>\n <td>Not assigned\n </td>\n <td>Not assigned\n </td></tr>\n <tr>\n <td>M9T\n </td>\n <td>Not assigned\n </td>\n <td>Not assigned\n </td></tr>\n <tr>\n <td>M1V\n </td>\n <td>Scarborough\n </td>\n <td>Milliken, Agincourt North, Steeles East, L'Amoreaux East\n </td></tr>\n <tr>\n <td>M2V\n </td>\n <td>Not assigned\n </td>\n <td>Not assigned\n </td></tr>\n <tr>\n <td>M3V\n </td>\n <td>Not assigned\n </td>\n <td>Not assigned\n </td></tr>\n <tr>\n <td>M4V\n </td>\n <td>Central Toronto\n </td>\n <td>Summerhill West, Rathnelly, South Hill, Forest Hill SE, Deer Park\n </td></tr>\n <tr>\n <td>M5V\n </td>\n <td>Downtown Toronto\n </td>\n <td>CN Tower, King and Spadina, Railway Lands, Harbourfront West, Bathurst Quay, South Niagara, Island airport\n </td></tr>\n <tr>\n <td>M6V\n </td>\n <td>Not assigned\n </td>\n <td>Not assigned\n </td></tr>\n <tr>\n <td>M7V\n </td>\n <td>Not assigned\n </td>\n <td>Not assigned\n </td></tr>\n <tr>\n <td>M8V\n </td>\n <td>Etobicoke\n </td>\n <td>New Toronto, Mimico South, Humber Bay Shores\n </td></tr>\n <tr>\n <td>M9V\n </td>\n <td>Etobicoke\n </td>\n <td>South Steeles, Silverstone, Humbergate, Jamestown, Mount Olive, Beaumond Heights, Thistletown, Albion Gardens\n </td></tr>\n <tr>\n <td>M1W\n </td>\n <td>Scarborough\n </td>\n <td>Steeles West, L'Amoreaux West\n </td></tr>\n <tr>\n <td>M2W\n </td>\n <td>Not assigned\n </td>\n <td>Not assigned\n </td></tr>\n <tr>\n <td>M3W\n </td>\n <td>Not assigned\n </td>\n <td>Not assigned\n </td></tr>\n <tr>\n <td>M4W\n </td>\n <td>Downtown Toronto\n </td>\n <td>Rosedale\n </td></tr>\n <tr>\n <td>M5W\n </td>\n <td>Downtown Toronto\n </td>\n <td>Stn A PO Boxes\n </td></tr>\n <tr>\n <td>M6W\n </td>\n <td>Not assigned\n </td>\n <td>Not assigned\n </td></tr>\n <tr>\n <td>M7W\n </td>\n <td>Not assigned\n </td>\n <td>Not assigned\n </td></tr>\n <tr>\n <td>M8W\n </td>\n <td>Etobicoke\n </td>\n <td>Alderwood, Long Branch\n </td></tr>\n <tr>\n <td>M9W\n </td>\n <td>Etobicoke\n </td>\n <td>Northwest, West Humber - Clairville\n </td></tr>\n <tr>\n <td>M1X\n </td>\n <td>Scarborough\n </td>\n <td>Upper Rouge\n </td></tr>\n <tr>\n <td>M2X\n </td>\n <td>Not assigned\n </td>\n <td>Not assigned\n </td></tr>\n <tr>\n <td>M3X\n </td>\n <td>Not assigned\n </td>\n <td>Not assigned\n </td></tr>\n <tr>\n <td>M4X\n </td>\n <td>Downtown Toronto\n </td>\n <td>St. James Town, Cabbagetown\n </td></tr>\n <tr>\n <td>M5X\n </td>\n <td>Downtown Toronto\n </td>\n <td>First Canadian Place, Underground city\n </td></tr>\n <tr>\n <td>M6X\n </td>\n <td>Not assigned\n </td>\n <td>Not assigned\n </td></tr>\n <tr>\n <td>M7X\n </td>\n <td>Not assigned\n </td>\n <td>Not assigned\n </td></tr>\n <tr>\n <td>M8X\n </td>\n <td>Etobicoke\n </td>\n <td>The Kingsway, Montgomery Road, Old Mill North\n </td></tr>\n <tr>\n <td>M9X\n </td>\n <td>Not assigned\n </td>\n <td>Not assigned\n </td></tr>\n <tr>\n <td>M1Y\n </td>\n <td>Not assigned\n </td>\n <td>Not assigned\n </td></tr>\n <tr>\n <td>M2Y\n </td>\n <td>Not assigned\n </td>\n <td>Not assigned\n </td></tr>\n <tr>\n <td>M3Y\n </td>\n <td>Not assigned\n </td>\n <td>Not assigned\n </td></tr>\n <tr>\n <td>M4Y\n </td>\n <td>Downtown Toronto\n </td>\n <td>Church and Wellesley\n </td></tr>\n <tr>\n <td>M5Y\n </td>\n <td>Not assigned\n </td>\n <td>Not assigned\n </td></tr>\n <tr>\n <td>M6Y\n </td>\n <td>Not assigned\n </td>\n <td>Not assigned\n </td></tr>\n <tr>\n <td>M7Y\n </td>\n <td>East Toronto\n </td>\n <td>Business reply mail Processing Centre, South Central Letter Processing Plant Toronto\n </td></tr>\n <tr>\n <td>M8Y\n </td>\n <td>Etobicoke\n </td>\n <td>Old Mill South, King's Mill Park, Sunnylea, Humber Bay, Mimico NE, The Queensway East, Royal York South East, Kingsway Park South East\n </td></tr>\n <tr>\n <td>M9Y\n </td>\n <td>Not assigned\n </td>\n <td>Not assigned\n </td></tr>\n <tr>\n <td>M1Z\n </td>\n <td>Not assigned\n </td>\n <td>Not assigned\n </td></tr>\n <tr>\n <td>M2Z\n </td>\n <td>Not assigned\n </td>\n <td>Not assigned\n </td></tr>\n <tr>\n <td>M3Z\n </td>\n <td>Not assigned\n </td>\n <td>Not assigned\n </td></tr>\n <tr>\n <td>M4Z\n </td>\n <td>Not assigned\n </td>\n <td>Not assigned\n </td></tr>\n <tr>\n <td>M5Z\n </td>\n <td>Not assigned\n </td>\n <td>Not assigned\n </td></tr>\n <tr>\n <td>M6Z\n </td>\n <td>Not assigned\n </td>\n <td>Not assigned\n </td></tr>\n <tr>\n <td>M7Z\n </td>\n <td>Not assigned\n </td>\n <td>Not assigned\n </td></tr>\n <tr>\n <td>M8Z\n </td>\n <td>Etobicoke\n </td>\n <td>Mimico NW, The Queensway West, South of Bloor, Kingsway Park South West, Royal York South West\n </td></tr>\n <tr>\n <td>M9Z\n </td>\n <td>Not assigned\n </td>\n <td>Not assigned\n </td></tr></tbody></table>,\n <table class=\"navbox\">\n <tbody><tr>\n <td style=\"width:36px; text-align:center\"><a class=\"image\" href=\"/wiki/File:Flag_of_Canada.svg\" title=\"Flag of Canada\"><img alt=\"Flag of Canada\" data-file-height=\"600\" data-file-width=\"1200\" decoding=\"async\" height=\"18\" src=\"//upload.wikimedia.org/wikipedia/en/thumb/c/cf/Flag_of_Canada.svg/36px-Flag_of_Canada.svg.png\" srcset=\"//upload.wikimedia.org/wikipedia/en/thumb/c/cf/Flag_of_Canada.svg/54px-Flag_of_Canada.svg.png 1.5x, //upload.wikimedia.org/wikipedia/en/thumb/c/cf/Flag_of_Canada.svg/72px-Flag_of_Canada.svg.png 2x\" width=\"36\"/></a>\n </td>\n <th class=\"navbox-title\" style=\"font-size:110%\"><a href=\"/wiki/Postal_codes_in_Canada\" title=\"Postal codes in Canada\">Canadian postal codes</a>\n </th>\n <td style=\"width:36px; text-align:center\"><a class=\"image\" href=\"/wiki/File:Canadian_postal_district_map_(without_legends).svg\"><img alt=\"Canadian postal district map (without legends).svg\" data-file-height=\"846\" data-file-width=\"1000\" decoding=\"async\" height=\"18\" src=\"//upload.wikimedia.org/wikipedia/commons/thumb/e/eb/Canadian_postal_district_map_%28without_legends%29.svg/21px-Canadian_postal_district_map_%28without_legends%29.svg.png\" srcset=\"//upload.wikimedia.org/wikipedia/commons/thumb/e/eb/Canadian_postal_district_map_%28without_legends%29.svg/32px-Canadian_postal_district_map_%28without_legends%29.svg.png 1.5x, //upload.wikimedia.org/wikipedia/commons/thumb/e/eb/Canadian_postal_district_map_%28without_legends%29.svg/43px-Canadian_postal_district_map_%28without_legends%29.svg.png 2x\" width=\"21\"/></a>\n </td></tr>\n <tr>\n <td colspan=\"3\" style=\"text-align:center; font-size: 100%;\">\n <table cellspacing=\"0\" style=\"background-color: #F8F8F8;\" width=\"100%\">\n <tbody><tr>\n <td style=\"text-align:center; border:1px solid #aaa;\"><a href=\"/wiki/Newfoundland_and_Labrador\" title=\"Newfoundland and Labrador\">NL</a>\n </td>\n <td style=\"text-align:center; border:1px solid #aaa;\"><a href=\"/wiki/Nova_Scotia\" title=\"Nova Scotia\">NS</a>\n </td>\n <td style=\"text-align:center; border:1px solid #aaa;\"><a href=\"/wiki/Prince_Edward_Island\" title=\"Prince Edward Island\">PE</a>\n </td>\n <td style=\"text-align:center; border:1px solid #aaa;\"><a href=\"/wiki/New_Brunswick\" title=\"New Brunswick\">NB</a>\n </td>\n <td colspan=\"3\" style=\"text-align:center; border:1px solid #aaa;\"><a href=\"/wiki/Quebec\" title=\"Quebec\">QC</a>\n </td>\n <td colspan=\"5\" style=\"text-align:center; border:1px solid #aaa;\"><a href=\"/wiki/Ontario\" title=\"Ontario\">ON</a>\n </td>\n <td style=\"text-align:center; border:1px solid #aaa;\"><a href=\"/wiki/Manitoba\" title=\"Manitoba\">MB</a>\n </td>\n <td style=\"text-align:center; border:1px solid #aaa;\"><a href=\"/wiki/Saskatchewan\" title=\"Saskatchewan\">SK</a>\n </td>\n <td style=\"text-align:center; border:1px solid #aaa;\"><a href=\"/wiki/Alberta\" title=\"Alberta\">AB</a>\n </td>\n <td style=\"text-align:center; border:1px solid #aaa;\"><a href=\"/wiki/British_Columbia\" title=\"British Columbia\">BC</a>\n </td>\n <td style=\"text-align:center; border:1px solid #aaa;\"><a href=\"/wiki/Nunavut\" title=\"Nunavut\">NU</a>/<a href=\"/wiki/Northwest_Territories\" title=\"Northwest Territories\">NT</a>\n </td>\n <td style=\"text-align:center; border:1px solid #aaa;\"><a href=\"/wiki/Yukon\" title=\"Yukon\">YT</a>\n </td></tr>\n <tr>\n <td align=\"center\" style=\"border: 1px solid #FF0000; background-color: #FFE0E0; font-size: 135%;\" width=\"5%\"><a href=\"/wiki/List_of_postal_codes_of_Canada:_A\" title=\"List of postal codes of Canada: A\">A</a>\n </td>\n <td align=\"center\" style=\"border: 1px solid #FF4000; background-color: #FFE8E0; font-size: 135%;\" width=\"5%\"><a href=\"/wiki/List_of_postal_codes_of_Canada:_B\" title=\"List of postal codes of Canada: B\">B</a>\n </td>\n <td align=\"center\" style=\"border: 1px solid #FF8000; background-color: #FFF0E0; font-size: 135%;\" width=\"5%\"><a href=\"/wiki/List_of_postal_codes_of_Canada:_C\" title=\"List of postal codes of Canada: C\">C</a>\n </td>\n <td align=\"center\" style=\"border: 1px solid #FFC000; background-color: #FFF8E0; font-size: 135%;\" width=\"5%\"><a href=\"/wiki/List_of_postal_codes_of_Canada:_E\" title=\"List of postal codes of Canada: E\">E</a>\n </td>\n <td align=\"center\" style=\"border: 1px solid #FFFF00; background-color: #FFFFE0; font-size: 135%;\" width=\"5%\"><a href=\"/wiki/List_of_postal_codes_of_Canada:_G\" title=\"List of postal codes of Canada: G\">G</a>\n </td>\n <td align=\"center\" style=\"border: 1px solid #C0FF00; background-color: #F8FFE0; font-size: 135%;\" width=\"5%\"><a href=\"/wiki/List_of_postal_codes_of_Canada:_H\" title=\"List of postal codes of Canada: H\">H</a>\n </td>\n <td align=\"center\" style=\"border: 1px solid #80FF00; background-color: #F0FFE0; font-size: 135%;\" width=\"5%\"><a href=\"/wiki/List_of_postal_codes_of_Canada:_J\" title=\"List of postal codes of Canada: J\">J</a>\n </td>\n <td align=\"center\" style=\"border: 1px solid #00FF00; background-color: #E0FFE0; font-size: 135%;\" width=\"5%\"><a href=\"/wiki/List_of_postal_codes_of_Canada:_K\" title=\"List of postal codes of Canada: K\">K</a>\n </td>\n <td align=\"center\" style=\"border: 1px solid #00FF80; background-color: #E0FFF0; font-size: 135%;\" width=\"5%\"><a href=\"/wiki/List_of_postal_codes_of_Canada:_L\" title=\"List of postal codes of Canada: L\">L</a>\n </td>\n <td align=\"center\" style=\"border: 1px solid #E0FFF8; background-color: #00FFC0; font-size: 135%; color: black;\" width=\"5%\"><a class=\"mw-selflink selflink\">M</a>\n </td>\n <td align=\"center\" style=\"border: 1px solid #00FFE0; background-color: #E0FFFC; font-size: 135%;\" width=\"5%\"><a href=\"/wiki/List_of_postal_codes_of_Canada:_N\" title=\"List of postal codes of Canada: N\">N</a>\n </td>\n <td align=\"center\" style=\"border: 1px solid #00FFFF; background-color: #E0FFFF; font-size: 135%;\" width=\"5%\"><a href=\"/wiki/List_of_postal_codes_of_Canada:_P\" title=\"List of postal codes of Canada: P\">P</a>\n </td>\n <td align=\"center\" style=\"border: 1px solid #00C0FF; background-color: #E0F8FF; font-size: 135%;\" width=\"5%\"><a href=\"/wiki/List_of_postal_codes_of_Canada:_R\" title=\"List of postal codes of Canada: R\">R</a>\n </td>\n <td align=\"center\" style=\"border: 1px solid #0080FF; background-color: #E0F0FF; font-size: 135%;\" width=\"5%\"><a href=\"/wiki/List_of_postal_codes_of_Canada:_S\" title=\"List of postal codes of Canada: S\">S</a>\n </td>\n <td align=\"center\" style=\"border: 1px solid #0040FF; background-color: #E0E8FF; font-size: 135%;\" width=\"5%\"><a href=\"/wiki/List_of_postal_codes_of_Canada:_T\" title=\"List of postal codes of Canada: T\">T</a>\n </td>\n <td align=\"center\" style=\"border: 1px solid #0000FF; background-color: #E0E0FF; font-size: 135%;\" width=\"5%\"><a href=\"/wiki/List_of_postal_codes_of_Canada:_V\" title=\"List of postal codes of Canada: V\">V</a>\n </td>\n <td align=\"center\" style=\"border: 1px solid #A000FF; background-color: #E8E0FF; font-size: 135%;\" width=\"5%\"><a href=\"/wiki/List_of_postal_codes_of_Canada:_X\" title=\"List of postal codes of Canada: X\">X</a>\n </td>\n <td align=\"center\" style=\"border: 1px solid #FF00FF; background-color: #FFE0FF; font-size: 135%;\" width=\"5%\"><a href=\"/wiki/List_of_postal_codes_of_Canada:_Y\" title=\"List of postal codes of Canada: Y\">Y</a>\n </td></tr></tbody></table>\n </td></tr></tbody></table>,\n <table cellspacing=\"0\" style=\"background-color: #F8F8F8;\" width=\"100%\">\n <tbody><tr>\n <td style=\"text-align:center; border:1px solid #aaa;\"><a href=\"/wiki/Newfoundland_and_Labrador\" title=\"Newfoundland and Labrador\">NL</a>\n </td>\n <td style=\"text-align:center; border:1px solid #aaa;\"><a href=\"/wiki/Nova_Scotia\" title=\"Nova Scotia\">NS</a>\n </td>\n <td style=\"text-align:center; border:1px solid #aaa;\"><a href=\"/wiki/Prince_Edward_Island\" title=\"Prince Edward Island\">PE</a>\n </td>\n <td style=\"text-align:center; border:1px solid #aaa;\"><a href=\"/wiki/New_Brunswick\" title=\"New Brunswick\">NB</a>\n </td>\n <td colspan=\"3\" style=\"text-align:center; border:1px solid #aaa;\"><a href=\"/wiki/Quebec\" title=\"Quebec\">QC</a>\n </td>\n <td colspan=\"5\" style=\"text-align:center; border:1px solid #aaa;\"><a href=\"/wiki/Ontario\" title=\"Ontario\">ON</a>\n </td>\n <td style=\"text-align:center; border:1px solid #aaa;\"><a href=\"/wiki/Manitoba\" title=\"Manitoba\">MB</a>\n </td>\n <td style=\"text-align:center; border:1px solid #aaa;\"><a href=\"/wiki/Saskatchewan\" title=\"Saskatchewan\">SK</a>\n </td>\n <td style=\"text-align:center; border:1px solid #aaa;\"><a href=\"/wiki/Alberta\" title=\"Alberta\">AB</a>\n </td>\n <td style=\"text-align:center; border:1px solid #aaa;\"><a href=\"/wiki/British_Columbia\" title=\"British Columbia\">BC</a>\n </td>\n <td style=\"text-align:center; border:1px solid #aaa;\"><a href=\"/wiki/Nunavut\" title=\"Nunavut\">NU</a>/<a href=\"/wiki/Northwest_Territories\" title=\"Northwest Territories\">NT</a>\n </td>\n <td style=\"text-align:center; border:1px solid #aaa;\"><a href=\"/wiki/Yukon\" title=\"Yukon\">YT</a>\n </td></tr>\n <tr>\n <td align=\"center\" style=\"border: 1px solid #FF0000; background-color: #FFE0E0; font-size: 135%;\" width=\"5%\"><a href=\"/wiki/List_of_postal_codes_of_Canada:_A\" title=\"List of postal codes of Canada: A\">A</a>\n </td>\n <td align=\"center\" style=\"border: 1px solid #FF4000; background-color: #FFE8E0; font-size: 135%;\" width=\"5%\"><a href=\"/wiki/List_of_postal_codes_of_Canada:_B\" title=\"List of postal codes of Canada: B\">B</a>\n </td>\n <td align=\"center\" style=\"border: 1px solid #FF8000; background-color: #FFF0E0; font-size: 135%;\" width=\"5%\"><a href=\"/wiki/List_of_postal_codes_of_Canada:_C\" title=\"List of postal codes of Canada: C\">C</a>\n </td>\n <td align=\"center\" style=\"border: 1px solid #FFC000; background-color: #FFF8E0; font-size: 135%;\" width=\"5%\"><a href=\"/wiki/List_of_postal_codes_of_Canada:_E\" title=\"List of postal codes of Canada: E\">E</a>\n </td>\n <td align=\"center\" style=\"border: 1px solid #FFFF00; background-color: #FFFFE0; font-size: 135%;\" width=\"5%\"><a href=\"/wiki/List_of_postal_codes_of_Canada:_G\" title=\"List of postal codes of Canada: G\">G</a>\n </td>\n <td align=\"center\" style=\"border: 1px solid #C0FF00; background-color: #F8FFE0; font-size: 135%;\" width=\"5%\"><a href=\"/wiki/List_of_postal_codes_of_Canada:_H\" title=\"List of postal codes of Canada: H\">H</a>\n </td>\n <td align=\"center\" style=\"border: 1px solid #80FF00; background-color: #F0FFE0; font-size: 135%;\" width=\"5%\"><a href=\"/wiki/List_of_postal_codes_of_Canada:_J\" title=\"List of postal codes of Canada: J\">J</a>\n </td>\n <td align=\"center\" style=\"border: 1px solid #00FF00; background-color: #E0FFE0; font-size: 135%;\" width=\"5%\"><a href=\"/wiki/List_of_postal_codes_of_Canada:_K\" title=\"List of postal codes of Canada: K\">K</a>\n </td>\n <td align=\"center\" style=\"border: 1px solid #00FF80; background-color: #E0FFF0; font-size: 135%;\" width=\"5%\"><a href=\"/wiki/List_of_postal_codes_of_Canada:_L\" title=\"List of postal codes of Canada: L\">L</a>\n </td>\n <td align=\"center\" style=\"border: 1px solid #E0FFF8; background-color: #00FFC0; font-size: 135%; color: black;\" width=\"5%\"><a class=\"mw-selflink selflink\">M</a>\n </td>\n <td align=\"center\" style=\"border: 1px solid #00FFE0; background-color: #E0FFFC; font-size: 135%;\" width=\"5%\"><a href=\"/wiki/List_of_postal_codes_of_Canada:_N\" title=\"List of postal codes of Canada: N\">N</a>\n </td>\n <td align=\"center\" style=\"border: 1px solid #00FFFF; background-color: #E0FFFF; font-size: 135%;\" width=\"5%\"><a href=\"/wiki/List_of_postal_codes_of_Canada:_P\" title=\"List of postal codes of Canada: P\">P</a>\n </td>\n <td align=\"center\" style=\"border: 1px solid #00C0FF; background-color: #E0F8FF; font-size: 135%;\" width=\"5%\"><a href=\"/wiki/List_of_postal_codes_of_Canada:_R\" title=\"List of postal codes of Canada: R\">R</a>\n </td>\n <td align=\"center\" style=\"border: 1px solid #0080FF; background-color: #E0F0FF; font-size: 135%;\" width=\"5%\"><a href=\"/wiki/List_of_postal_codes_of_Canada:_S\" title=\"List of postal codes of Canada: S\">S</a>\n </td>\n <td align=\"center\" style=\"border: 1px solid #0040FF; background-color: #E0E8FF; font-size: 135%;\" width=\"5%\"><a href=\"/wiki/List_of_postal_codes_of_Canada:_T\" title=\"List of postal codes of Canada: T\">T</a>\n </td>\n <td align=\"center\" style=\"border: 1px solid #0000FF; background-color: #E0E0FF; font-size: 135%;\" width=\"5%\"><a href=\"/wiki/List_of_postal_codes_of_Canada:_V\" title=\"List of postal codes of Canada: V\">V</a>\n </td>\n <td align=\"center\" style=\"border: 1px solid #A000FF; background-color: #E8E0FF; font-size: 135%;\" width=\"5%\"><a href=\"/wiki/List_of_postal_codes_of_Canada:_X\" title=\"List of postal codes of Canada: X\">X</a>\n </td>\n <td align=\"center\" style=\"border: 1px solid #FF00FF; background-color: #FFE0FF; font-size: 135%;\" width=\"5%\"><a href=\"/wiki/List_of_postal_codes_of_Canada:_Y\" title=\"List of postal codes of Canada: Y\">Y</a>\n </td></tr></tbody></table>]"
                    },
                    "metadata": {}
                }
            ]
        },
        {
            "metadata": {},
            "cell_type": "code",
            "source": "right_table=soup.find('table', class_='wikitable sortable')\nright_table",
            "execution_count": 10,
            "outputs": [
                {
                    "output_type": "execute_result",
                    "execution_count": 10,
                    "data": {
                        "text/plain": "<table class=\"wikitable sortable\">\n<tbody><tr>\n<th>Postal Code\n</th>\n<th>Borough\n</th>\n<th>Neighbourhood\n</th></tr>\n<tr>\n<td>M1A\n</td>\n<td>Not assigned\n</td>\n<td>Not assigned\n</td></tr>\n<tr>\n<td>M2A\n</td>\n<td>Not assigned\n</td>\n<td>Not assigned\n</td></tr>\n<tr>\n<td>M3A\n</td>\n<td>North York\n</td>\n<td>Parkwoods\n</td></tr>\n<tr>\n<td>M4A\n</td>\n<td>North York\n</td>\n<td>Victoria Village\n</td></tr>\n<tr>\n<td>M5A\n</td>\n<td>Downtown Toronto\n</td>\n<td>Regent Park, Harbourfront\n</td></tr>\n<tr>\n<td>M6A\n</td>\n<td>North York\n</td>\n<td>Lawrence Manor, Lawrence Heights\n</td></tr>\n<tr>\n<td>M7A\n</td>\n<td>Downtown Toronto\n</td>\n<td>Queen's Park, Ontario Provincial Government\n</td></tr>\n<tr>\n<td>M8A\n</td>\n<td>Not assigned\n</td>\n<td>Not assigned\n</td></tr>\n<tr>\n<td>M9A\n</td>\n<td>Etobicoke\n</td>\n<td>Islington Avenue, Humber Valley Village\n</td></tr>\n<tr>\n<td>M1B\n</td>\n<td>Scarborough\n</td>\n<td>Malvern, Rouge\n</td></tr>\n<tr>\n<td>M2B\n</td>\n<td>Not assigned\n</td>\n<td>Not assigned\n</td></tr>\n<tr>\n<td>M3B\n</td>\n<td>North York\n</td>\n<td>Don Mills\n</td></tr>\n<tr>\n<td>M4B\n</td>\n<td>East York\n</td>\n<td>Parkview Hill, Woodbine Gardens\n</td></tr>\n<tr>\n<td>M5B\n</td>\n<td>Downtown Toronto\n</td>\n<td>Garden District, Ryerson\n</td></tr>\n<tr>\n<td>M6B\n</td>\n<td>North York\n</td>\n<td>Glencairn\n</td></tr>\n<tr>\n<td>M7B\n</td>\n<td>Not assigned\n</td>\n<td>Not assigned\n</td></tr>\n<tr>\n<td>M8B\n</td>\n<td>Not assigned\n</td>\n<td>Not assigned\n</td></tr>\n<tr>\n<td>M9B\n</td>\n<td>Etobicoke\n</td>\n<td>West Deane Park, Princess Gardens, Martin Grove, Islington, Cloverdale\n</td></tr>\n<tr>\n<td>M1C\n</td>\n<td>Scarborough\n</td>\n<td>Rouge Hill, Port Union, Highland Creek\n</td></tr>\n<tr>\n<td>M2C\n</td>\n<td>Not assigned\n</td>\n<td>Not assigned\n</td></tr>\n<tr>\n<td>M3C\n</td>\n<td>North York\n</td>\n<td>Don Mills\n</td></tr>\n<tr>\n<td>M4C\n</td>\n<td>East York\n</td>\n<td>Woodbine Heights\n</td></tr>\n<tr>\n<td>M5C\n</td>\n<td>Downtown Toronto\n</td>\n<td>St. James Town\n</td></tr>\n<tr>\n<td>M6C\n</td>\n<td>York\n</td>\n<td>Humewood-Cedarvale\n</td></tr>\n<tr>\n<td>M7C\n</td>\n<td>Not assigned\n</td>\n<td>Not assigned\n</td></tr>\n<tr>\n<td>M8C\n</td>\n<td>Not assigned\n</td>\n<td>Not assigned\n</td></tr>\n<tr>\n<td>M9C\n</td>\n<td>Etobicoke\n</td>\n<td>Eringate, Bloordale Gardens, Old Burnhamthorpe, Markland Wood\n</td></tr>\n<tr>\n<td>M1E\n</td>\n<td>Scarborough\n</td>\n<td>Guildwood, Morningside, West Hill\n</td></tr>\n<tr>\n<td>M2E\n</td>\n<td>Not assigned\n</td>\n<td>Not assigned\n</td></tr>\n<tr>\n<td>M3E\n</td>\n<td>Not assigned\n</td>\n<td>Not assigned\n</td></tr>\n<tr>\n<td>M4E\n</td>\n<td>East Toronto\n</td>\n<td>The Beaches\n</td></tr>\n<tr>\n<td>M5E\n</td>\n<td>Downtown Toronto\n</td>\n<td>Berczy Park\n</td></tr>\n<tr>\n<td>M6E\n</td>\n<td>York\n</td>\n<td>Caledonia-Fairbanks\n</td></tr>\n<tr>\n<td>M7E\n</td>\n<td>Not assigned\n</td>\n<td>Not assigned\n</td></tr>\n<tr>\n<td>M8E\n</td>\n<td>Not assigned\n</td>\n<td>Not assigned\n</td></tr>\n<tr>\n<td>M9E\n</td>\n<td>Not assigned\n</td>\n<td>Not assigned\n</td></tr>\n<tr>\n<td>M1G\n</td>\n<td>Scarborough\n</td>\n<td>Woburn\n</td></tr>\n<tr>\n<td>M2G\n</td>\n<td>Not assigned\n</td>\n<td>Not assigned\n</td></tr>\n<tr>\n<td>M3G\n</td>\n<td>Not assigned\n</td>\n<td>Not assigned\n</td></tr>\n<tr>\n<td>M4G\n</td>\n<td>East York\n</td>\n<td>Leaside\n</td></tr>\n<tr>\n<td>M5G\n</td>\n<td>Downtown Toronto\n</td>\n<td>Central Bay Street\n</td></tr>\n<tr>\n<td>M6G\n</td>\n<td>Downtown Toronto\n</td>\n<td>Christie\n</td></tr>\n<tr>\n<td>M7G\n</td>\n<td>Not assigned\n</td>\n<td>Not assigned\n</td></tr>\n<tr>\n<td>M8G\n</td>\n<td>Not assigned\n</td>\n<td>Not assigned\n</td></tr>\n<tr>\n<td>M9G\n</td>\n<td>Not assigned\n</td>\n<td>Not assigned\n</td></tr>\n<tr>\n<td>M1H\n</td>\n<td>Scarborough\n</td>\n<td>Cedarbrae\n</td></tr>\n<tr>\n<td>M2H\n</td>\n<td>North York\n</td>\n<td>Hillcrest Village\n</td></tr>\n<tr>\n<td>M3H\n</td>\n<td>North York\n</td>\n<td>Bathurst Manor, Wilson Heights, Downsview North\n</td></tr>\n<tr>\n<td>M4H\n</td>\n<td>East York\n</td>\n<td>Thorncliffe Park\n</td></tr>\n<tr>\n<td>M5H\n</td>\n<td>Downtown Toronto\n</td>\n<td>Richmond, Adelaide, King\n</td></tr>\n<tr>\n<td>M6H\n</td>\n<td>West Toronto\n</td>\n<td>Dufferin, Dovercourt Village\n</td></tr>\n<tr>\n<td>M7H\n</td>\n<td>Not assigned\n</td>\n<td>Not assigned\n</td></tr>\n<tr>\n<td>M8H\n</td>\n<td>Not assigned\n</td>\n<td>Not assigned\n</td></tr>\n<tr>\n<td>M9H\n</td>\n<td>Not assigned\n</td>\n<td>Not assigned\n</td></tr>\n<tr>\n<td>M1J\n</td>\n<td>Scarborough\n</td>\n<td>Scarborough Village\n</td></tr>\n<tr>\n<td>M2J\n</td>\n<td>North York\n</td>\n<td>Fairview, Henry Farm, Oriole\n</td></tr>\n<tr>\n<td>M3J\n</td>\n<td>North York\n</td>\n<td>Northwood Park, York University\n</td></tr>\n<tr>\n<td>M4J\n</td>\n<td>East York\n</td>\n<td>East Toronto, Broadview North (Old East York)\n</td></tr>\n<tr>\n<td>M5J\n</td>\n<td>Downtown Toronto\n</td>\n<td>Harbourfront East, Union Station, Toronto Islands\n</td></tr>\n<tr>\n<td>M6J\n</td>\n<td>West Toronto\n</td>\n<td>Little Portugal, Trinity\n</td></tr>\n<tr>\n<td>M7J\n</td>\n<td>Not assigned\n</td>\n<td>Not assigned\n</td></tr>\n<tr>\n<td>M8J\n</td>\n<td>Not assigned\n</td>\n<td>Not assigned\n</td></tr>\n<tr>\n<td>M9J\n</td>\n<td>Not assigned\n</td>\n<td>Not assigned\n</td></tr>\n<tr>\n<td>M1K\n</td>\n<td>Scarborough\n</td>\n<td>Kennedy Park, Ionview, East Birchmount Park\n</td></tr>\n<tr>\n<td>M2K\n</td>\n<td>North York\n</td>\n<td>Bayview Village\n</td></tr>\n<tr>\n<td>M3K\n</td>\n<td>North York\n</td>\n<td>Downsview\n</td></tr>\n<tr>\n<td>M4K\n</td>\n<td>East Toronto\n</td>\n<td>The Danforth West, Riverdale\n</td></tr>\n<tr>\n<td>M5K\n</td>\n<td>Downtown Toronto\n</td>\n<td>Toronto Dominion Centre, Design Exchange\n</td></tr>\n<tr>\n<td>M6K\n</td>\n<td>West Toronto\n</td>\n<td>Brockton, Parkdale Village, Exhibition Place\n</td></tr>\n<tr>\n<td>M7K\n</td>\n<td>Not assigned\n</td>\n<td>Not assigned\n</td></tr>\n<tr>\n<td>M8K\n</td>\n<td>Not assigned\n</td>\n<td>Not assigned\n</td></tr>\n<tr>\n<td>M9K\n</td>\n<td>Not assigned\n</td>\n<td>Not assigned\n</td></tr>\n<tr>\n<td>M1L\n</td>\n<td>Scarborough\n</td>\n<td>Golden Mile, Clairlea, Oakridge\n</td></tr>\n<tr>\n<td>M2L\n</td>\n<td>North York\n</td>\n<td>York Mills, Silver Hills\n</td></tr>\n<tr>\n<td>M3L\n</td>\n<td>North York\n</td>\n<td>Downsview\n</td></tr>\n<tr>\n<td>M4L\n</td>\n<td>East Toronto\n</td>\n<td>India Bazaar, The Beaches West\n</td></tr>\n<tr>\n<td>M5L\n</td>\n<td>Downtown Toronto\n</td>\n<td>Commerce Court, Victoria Hotel\n</td></tr>\n<tr>\n<td>M6L\n</td>\n<td>North York\n</td>\n<td>North Park, Maple Leaf Park, Upwood Park\n</td></tr>\n<tr>\n<td>M7L\n</td>\n<td>Not assigned\n</td>\n<td>Not assigned\n</td></tr>\n<tr>\n<td>M8L\n</td>\n<td>Not assigned\n</td>\n<td>Not assigned\n</td></tr>\n<tr>\n<td>M9L\n</td>\n<td>North York\n</td>\n<td>Humber Summit\n</td></tr>\n<tr>\n<td>M1M\n</td>\n<td>Scarborough\n</td>\n<td>Cliffside, Cliffcrest, Scarborough Village West\n</td></tr>\n<tr>\n<td>M2M\n</td>\n<td>North York\n</td>\n<td>Willowdale, Newtonbrook\n</td></tr>\n<tr>\n<td>M3M\n</td>\n<td>North York\n</td>\n<td>Downsview\n</td></tr>\n<tr>\n<td>M4M\n</td>\n<td>East Toronto\n</td>\n<td>Studio District\n</td></tr>\n<tr>\n<td>M5M\n</td>\n<td>North York\n</td>\n<td>Bedford Park, Lawrence Manor East\n</td></tr>\n<tr>\n<td>M6M\n</td>\n<td>York\n</td>\n<td>Del Ray, Mount Dennis, Keelsdale and Silverthorn\n</td></tr>\n<tr>\n<td>M7M\n</td>\n<td>Not assigned\n</td>\n<td>Not assigned\n</td></tr>\n<tr>\n<td>M8M\n</td>\n<td>Not assigned\n</td>\n<td>Not assigned\n</td></tr>\n<tr>\n<td>M9M\n</td>\n<td>North York\n</td>\n<td>Humberlea, Emery\n</td></tr>\n<tr>\n<td>M1N\n</td>\n<td>Scarborough\n</td>\n<td>Birch Cliff, Cliffside West\n</td></tr>\n<tr>\n<td>M2N\n</td>\n<td>North York\n</td>\n<td>Willowdale, Willowdale East\n</td></tr>\n<tr>\n<td>M3N\n</td>\n<td>North York\n</td>\n<td>Downsview\n</td></tr>\n<tr>\n<td>M4N\n</td>\n<td>Central Toronto\n</td>\n<td>Lawrence Park\n</td></tr>\n<tr>\n<td>M5N\n</td>\n<td>Central Toronto\n</td>\n<td>Roselawn\n</td></tr>\n<tr>\n<td>M6N\n</td>\n<td>York\n</td>\n<td>Runnymede, The Junction North\n</td></tr>\n<tr>\n<td>M7N\n</td>\n<td>Not assigned\n</td>\n<td>Not assigned\n</td></tr>\n<tr>\n<td>M8N\n</td>\n<td>Not assigned\n</td>\n<td>Not assigned\n</td></tr>\n<tr>\n<td>M9N\n</td>\n<td>York\n</td>\n<td>Weston\n</td></tr>\n<tr>\n<td>M1P\n</td>\n<td>Scarborough\n</td>\n<td>Dorset Park, Wexford Heights, Scarborough Town Centre\n</td></tr>\n<tr>\n<td>M2P\n</td>\n<td>North York\n</td>\n<td>York Mills West\n</td></tr>\n<tr>\n<td>M3P\n</td>\n<td>Not assigned\n</td>\n<td>Not assigned\n</td></tr>\n<tr>\n<td>M4P\n</td>\n<td>Central Toronto\n</td>\n<td>Davisville North\n</td></tr>\n<tr>\n<td>M5P\n</td>\n<td>Central Toronto\n</td>\n<td>Forest Hill North &amp; West, Forest Hill Road Park\n</td></tr>\n<tr>\n<td>M6P\n</td>\n<td>West Toronto\n</td>\n<td>High Park, The Junction South\n</td></tr>\n<tr>\n<td>M7P\n</td>\n<td>Not assigned\n</td>\n<td>Not assigned\n</td></tr>\n<tr>\n<td>M8P\n</td>\n<td>Not assigned\n</td>\n<td>Not assigned\n</td></tr>\n<tr>\n<td>M9P\n</td>\n<td>Etobicoke\n</td>\n<td>Westmount\n</td></tr>\n<tr>\n<td>M1R\n</td>\n<td>Scarborough\n</td>\n<td>Wexford, Maryvale\n</td></tr>\n<tr>\n<td>M2R\n</td>\n<td>North York\n</td>\n<td>Willowdale, Willowdale West\n</td></tr>\n<tr>\n<td>M3R\n</td>\n<td>Not assigned\n</td>\n<td>Not assigned\n</td></tr>\n<tr>\n<td>M4R\n</td>\n<td>Central Toronto\n</td>\n<td>North Toronto West,  Lawrence Park\n</td></tr>\n<tr>\n<td>M5R\n</td>\n<td>Central Toronto\n</td>\n<td>The Annex, North Midtown, Yorkville\n</td></tr>\n<tr>\n<td>M6R\n</td>\n<td>West Toronto\n</td>\n<td>Parkdale, Roncesvalles\n</td></tr>\n<tr>\n<td>M7R\n</td>\n<td>Mississauga\n</td>\n<td>Canada Post Gateway Processing Centre\n</td></tr>\n<tr>\n<td>M8R\n</td>\n<td>Not assigned\n</td>\n<td>Not assigned\n</td></tr>\n<tr>\n<td>M9R\n</td>\n<td>Etobicoke\n</td>\n<td>Kingsview Village, St. Phillips, Martin Grove Gardens, Richview Gardens\n</td></tr>\n<tr>\n<td>M1S\n</td>\n<td>Scarborough\n</td>\n<td>Agincourt\n</td></tr>\n<tr>\n<td>M2S\n</td>\n<td>Not assigned\n</td>\n<td>Not assigned\n</td></tr>\n<tr>\n<td>M3S\n</td>\n<td>Not assigned\n</td>\n<td>Not assigned\n</td></tr>\n<tr>\n<td>M4S\n</td>\n<td>Central Toronto\n</td>\n<td>Davisville\n</td></tr>\n<tr>\n<td>M5S\n</td>\n<td>Downtown Toronto\n</td>\n<td>University of Toronto, Harbord\n</td></tr>\n<tr>\n<td>M6S\n</td>\n<td>West Toronto\n</td>\n<td>Runnymede, Swansea\n</td></tr>\n<tr>\n<td>M7S\n</td>\n<td>Not assigned\n</td>\n<td>Not assigned\n</td></tr>\n<tr>\n<td>M8S\n</td>\n<td>Not assigned\n</td>\n<td>Not assigned\n</td></tr>\n<tr>\n<td>M9S\n</td>\n<td>Not assigned\n</td>\n<td>Not assigned\n</td></tr>\n<tr>\n<td>M1T\n</td>\n<td>Scarborough\n</td>\n<td>Clarks Corners, Tam O'Shanter, Sullivan\n</td></tr>\n<tr>\n<td>M2T\n</td>\n<td>Not assigned\n</td>\n<td>Not assigned\n</td></tr>\n<tr>\n<td>M3T\n</td>\n<td>Not assigned\n</td>\n<td>Not assigned\n</td></tr>\n<tr>\n<td>M4T\n</td>\n<td>Central Toronto\n</td>\n<td>Moore Park, Summerhill East\n</td></tr>\n<tr>\n<td>M5T\n</td>\n<td>Downtown Toronto\n</td>\n<td>Kensington Market, Chinatown, Grange Park\n</td></tr>\n<tr>\n<td>M6T\n</td>\n<td>Not assigned\n</td>\n<td>Not assigned\n</td></tr>\n<tr>\n<td>M7T\n</td>\n<td>Not assigned\n</td>\n<td>Not assigned\n</td></tr>\n<tr>\n<td>M8T\n</td>\n<td>Not assigned\n</td>\n<td>Not assigned\n</td></tr>\n<tr>\n<td>M9T\n</td>\n<td>Not assigned\n</td>\n<td>Not assigned\n</td></tr>\n<tr>\n<td>M1V\n</td>\n<td>Scarborough\n</td>\n<td>Milliken, Agincourt North, Steeles East, L'Amoreaux East\n</td></tr>\n<tr>\n<td>M2V\n</td>\n<td>Not assigned\n</td>\n<td>Not assigned\n</td></tr>\n<tr>\n<td>M3V\n</td>\n<td>Not assigned\n</td>\n<td>Not assigned\n</td></tr>\n<tr>\n<td>M4V\n</td>\n<td>Central Toronto\n</td>\n<td>Summerhill West, Rathnelly, South Hill, Forest Hill SE, Deer Park\n</td></tr>\n<tr>\n<td>M5V\n</td>\n<td>Downtown Toronto\n</td>\n<td>CN Tower, King and Spadina, Railway Lands, Harbourfront West, Bathurst Quay, South Niagara, Island airport\n</td></tr>\n<tr>\n<td>M6V\n</td>\n<td>Not assigned\n</td>\n<td>Not assigned\n</td></tr>\n<tr>\n<td>M7V\n</td>\n<td>Not assigned\n</td>\n<td>Not assigned\n</td></tr>\n<tr>\n<td>M8V\n</td>\n<td>Etobicoke\n</td>\n<td>New Toronto, Mimico South, Humber Bay Shores\n</td></tr>\n<tr>\n<td>M9V\n</td>\n<td>Etobicoke\n</td>\n<td>South Steeles, Silverstone, Humbergate, Jamestown, Mount Olive, Beaumond Heights, Thistletown, Albion Gardens\n</td></tr>\n<tr>\n<td>M1W\n</td>\n<td>Scarborough\n</td>\n<td>Steeles West, L'Amoreaux West\n</td></tr>\n<tr>\n<td>M2W\n</td>\n<td>Not assigned\n</td>\n<td>Not assigned\n</td></tr>\n<tr>\n<td>M3W\n</td>\n<td>Not assigned\n</td>\n<td>Not assigned\n</td></tr>\n<tr>\n<td>M4W\n</td>\n<td>Downtown Toronto\n</td>\n<td>Rosedale\n</td></tr>\n<tr>\n<td>M5W\n</td>\n<td>Downtown Toronto\n</td>\n<td>Stn A PO Boxes\n</td></tr>\n<tr>\n<td>M6W\n</td>\n<td>Not assigned\n</td>\n<td>Not assigned\n</td></tr>\n<tr>\n<td>M7W\n</td>\n<td>Not assigned\n</td>\n<td>Not assigned\n</td></tr>\n<tr>\n<td>M8W\n</td>\n<td>Etobicoke\n</td>\n<td>Alderwood, Long Branch\n</td></tr>\n<tr>\n<td>M9W\n</td>\n<td>Etobicoke\n</td>\n<td>Northwest, West Humber - Clairville\n</td></tr>\n<tr>\n<td>M1X\n</td>\n<td>Scarborough\n</td>\n<td>Upper Rouge\n</td></tr>\n<tr>\n<td>M2X\n</td>\n<td>Not assigned\n</td>\n<td>Not assigned\n</td></tr>\n<tr>\n<td>M3X\n</td>\n<td>Not assigned\n</td>\n<td>Not assigned\n</td></tr>\n<tr>\n<td>M4X\n</td>\n<td>Downtown Toronto\n</td>\n<td>St. James Town, Cabbagetown\n</td></tr>\n<tr>\n<td>M5X\n</td>\n<td>Downtown Toronto\n</td>\n<td>First Canadian Place, Underground city\n</td></tr>\n<tr>\n<td>M6X\n</td>\n<td>Not assigned\n</td>\n<td>Not assigned\n</td></tr>\n<tr>\n<td>M7X\n</td>\n<td>Not assigned\n</td>\n<td>Not assigned\n</td></tr>\n<tr>\n<td>M8X\n</td>\n<td>Etobicoke\n</td>\n<td>The Kingsway, Montgomery Road, Old Mill North\n</td></tr>\n<tr>\n<td>M9X\n</td>\n<td>Not assigned\n</td>\n<td>Not assigned\n</td></tr>\n<tr>\n<td>M1Y\n</td>\n<td>Not assigned\n</td>\n<td>Not assigned\n</td></tr>\n<tr>\n<td>M2Y\n</td>\n<td>Not assigned\n</td>\n<td>Not assigned\n</td></tr>\n<tr>\n<td>M3Y\n</td>\n<td>Not assigned\n</td>\n<td>Not assigned\n</td></tr>\n<tr>\n<td>M4Y\n</td>\n<td>Downtown Toronto\n</td>\n<td>Church and Wellesley\n</td></tr>\n<tr>\n<td>M5Y\n</td>\n<td>Not assigned\n</td>\n<td>Not assigned\n</td></tr>\n<tr>\n<td>M6Y\n</td>\n<td>Not assigned\n</td>\n<td>Not assigned\n</td></tr>\n<tr>\n<td>M7Y\n</td>\n<td>East Toronto\n</td>\n<td>Business reply mail Processing Centre, South Central Letter Processing Plant Toronto\n</td></tr>\n<tr>\n<td>M8Y\n</td>\n<td>Etobicoke\n</td>\n<td>Old Mill South, King's Mill Park, Sunnylea, Humber Bay, Mimico NE, The Queensway East, Royal York South East, Kingsway Park South East\n</td></tr>\n<tr>\n<td>M9Y\n</td>\n<td>Not assigned\n</td>\n<td>Not assigned\n</td></tr>\n<tr>\n<td>M1Z\n</td>\n<td>Not assigned\n</td>\n<td>Not assigned\n</td></tr>\n<tr>\n<td>M2Z\n</td>\n<td>Not assigned\n</td>\n<td>Not assigned\n</td></tr>\n<tr>\n<td>M3Z\n</td>\n<td>Not assigned\n</td>\n<td>Not assigned\n</td></tr>\n<tr>\n<td>M4Z\n</td>\n<td>Not assigned\n</td>\n<td>Not assigned\n</td></tr>\n<tr>\n<td>M5Z\n</td>\n<td>Not assigned\n</td>\n<td>Not assigned\n</td></tr>\n<tr>\n<td>M6Z\n</td>\n<td>Not assigned\n</td>\n<td>Not assigned\n</td></tr>\n<tr>\n<td>M7Z\n</td>\n<td>Not assigned\n</td>\n<td>Not assigned\n</td></tr>\n<tr>\n<td>M8Z\n</td>\n<td>Etobicoke\n</td>\n<td>Mimico NW, The Queensway West, South of Bloor, Kingsway Park South West, Royal York South West\n</td></tr>\n<tr>\n<td>M9Z\n</td>\n<td>Not assigned\n</td>\n<td>Not assigned\n</td></tr></tbody></table>"
                    },
                    "metadata": {}
                }
            ]
        },
        {
            "metadata": {},
            "cell_type": "code",
            "source": "A=[]\nB=[]\nC=[]\nfor row in right_table.findAll('tr'):\n    cells=row.findAll('td')\n    if len(cells)==3:\n        A.append(cells[0].find(text=True))\n        B.append(cells[1].find(text=True))\n        C.append(cells[2].find(text=True))",
            "execution_count": 11,
            "outputs": []
        },
        {
            "metadata": {},
            "cell_type": "code",
            "source": "import pandas as pd\ndf=pd.DataFrame(A,columns=['PostalCode'])\ndf['Borough']=B\ndf['Neighbourhood']=C\ndf",
            "execution_count": 12,
            "outputs": [
                {
                    "output_type": "execute_result",
                    "execution_count": 12,
                    "data": {
                        "text/plain": "    PostalCode             Borough  \\\n0        M1A\\n      Not assigned\\n   \n1        M2A\\n      Not assigned\\n   \n2        M3A\\n        North York\\n   \n3        M4A\\n        North York\\n   \n4        M5A\\n  Downtown Toronto\\n   \n..         ...                 ...   \n175      M5Z\\n      Not assigned\\n   \n176      M6Z\\n      Not assigned\\n   \n177      M7Z\\n      Not assigned\\n   \n178      M8Z\\n         Etobicoke\\n   \n179      M9Z\\n      Not assigned\\n   \n\n                                         Neighbourhood  \n0                                       Not assigned\\n  \n1                                       Not assigned\\n  \n2                                          Parkwoods\\n  \n3                                   Victoria Village\\n  \n4                          Regent Park, Harbourfront\\n  \n..                                                 ...  \n175                                     Not assigned\\n  \n176                                     Not assigned\\n  \n177                                     Not assigned\\n  \n178  Mimico NW, The Queensway West, South of Bloor,...  \n179                                     Not assigned\\n  \n\n[180 rows x 3 columns]",
                        "text/html": "<div>\n<style scoped>\n    .dataframe tbody tr th:only-of-type {\n        vertical-align: middle;\n    }\n\n    .dataframe tbody tr th {\n        vertical-align: top;\n    }\n\n    .dataframe thead th {\n        text-align: right;\n    }\n</style>\n<table border=\"1\" class=\"dataframe\">\n  <thead>\n    <tr style=\"text-align: right;\">\n      <th></th>\n      <th>PostalCode</th>\n      <th>Borough</th>\n      <th>Neighbourhood</th>\n    </tr>\n  </thead>\n  <tbody>\n    <tr>\n      <th>0</th>\n      <td>M1A\\n</td>\n      <td>Not assigned\\n</td>\n      <td>Not assigned\\n</td>\n    </tr>\n    <tr>\n      <th>1</th>\n      <td>M2A\\n</td>\n      <td>Not assigned\\n</td>\n      <td>Not assigned\\n</td>\n    </tr>\n    <tr>\n      <th>2</th>\n      <td>M3A\\n</td>\n      <td>North York\\n</td>\n      <td>Parkwoods\\n</td>\n    </tr>\n    <tr>\n      <th>3</th>\n      <td>M4A\\n</td>\n      <td>North York\\n</td>\n      <td>Victoria Village\\n</td>\n    </tr>\n    <tr>\n      <th>4</th>\n      <td>M5A\\n</td>\n      <td>Downtown Toronto\\n</td>\n      <td>Regent Park, Harbourfront\\n</td>\n    </tr>\n    <tr>\n      <th>...</th>\n      <td>...</td>\n      <td>...</td>\n      <td>...</td>\n    </tr>\n    <tr>\n      <th>175</th>\n      <td>M5Z\\n</td>\n      <td>Not assigned\\n</td>\n      <td>Not assigned\\n</td>\n    </tr>\n    <tr>\n      <th>176</th>\n      <td>M6Z\\n</td>\n      <td>Not assigned\\n</td>\n      <td>Not assigned\\n</td>\n    </tr>\n    <tr>\n      <th>177</th>\n      <td>M7Z\\n</td>\n      <td>Not assigned\\n</td>\n      <td>Not assigned\\n</td>\n    </tr>\n    <tr>\n      <th>178</th>\n      <td>M8Z\\n</td>\n      <td>Etobicoke\\n</td>\n      <td>Mimico NW, The Queensway West, South of Bloor,...</td>\n    </tr>\n    <tr>\n      <th>179</th>\n      <td>M9Z\\n</td>\n      <td>Not assigned\\n</td>\n      <td>Not assigned\\n</td>\n    </tr>\n  </tbody>\n</table>\n<p>180 rows \u00d7 3 columns</p>\n</div>"
                    },
                    "metadata": {}
                }
            ]
        },
        {
            "metadata": {},
            "cell_type": "code",
            "source": "df['PostalCode']=df['PostalCode'].str.replace('\\n','')\ndf['Borough']=df['Borough'].str.replace('\\n','')\ndf['Neighbourhood']=df['Neighbourhood'].str.replace('\\n','')\ndf",
            "execution_count": 13,
            "outputs": [
                {
                    "output_type": "execute_result",
                    "execution_count": 13,
                    "data": {
                        "text/plain": "    PostalCode           Borough  \\\n0          M1A      Not assigned   \n1          M2A      Not assigned   \n2          M3A        North York   \n3          M4A        North York   \n4          M5A  Downtown Toronto   \n..         ...               ...   \n175        M5Z      Not assigned   \n176        M6Z      Not assigned   \n177        M7Z      Not assigned   \n178        M8Z         Etobicoke   \n179        M9Z      Not assigned   \n\n                                         Neighbourhood  \n0                                         Not assigned  \n1                                         Not assigned  \n2                                            Parkwoods  \n3                                     Victoria Village  \n4                            Regent Park, Harbourfront  \n..                                                 ...  \n175                                       Not assigned  \n176                                       Not assigned  \n177                                       Not assigned  \n178  Mimico NW, The Queensway West, South of Bloor,...  \n179                                       Not assigned  \n\n[180 rows x 3 columns]",
                        "text/html": "<div>\n<style scoped>\n    .dataframe tbody tr th:only-of-type {\n        vertical-align: middle;\n    }\n\n    .dataframe tbody tr th {\n        vertical-align: top;\n    }\n\n    .dataframe thead th {\n        text-align: right;\n    }\n</style>\n<table border=\"1\" class=\"dataframe\">\n  <thead>\n    <tr style=\"text-align: right;\">\n      <th></th>\n      <th>PostalCode</th>\n      <th>Borough</th>\n      <th>Neighbourhood</th>\n    </tr>\n  </thead>\n  <tbody>\n    <tr>\n      <th>0</th>\n      <td>M1A</td>\n      <td>Not assigned</td>\n      <td>Not assigned</td>\n    </tr>\n    <tr>\n      <th>1</th>\n      <td>M2A</td>\n      <td>Not assigned</td>\n      <td>Not assigned</td>\n    </tr>\n    <tr>\n      <th>2</th>\n      <td>M3A</td>\n      <td>North York</td>\n      <td>Parkwoods</td>\n    </tr>\n    <tr>\n      <th>3</th>\n      <td>M4A</td>\n      <td>North York</td>\n      <td>Victoria Village</td>\n    </tr>\n    <tr>\n      <th>4</th>\n      <td>M5A</td>\n      <td>Downtown Toronto</td>\n      <td>Regent Park, Harbourfront</td>\n    </tr>\n    <tr>\n      <th>...</th>\n      <td>...</td>\n      <td>...</td>\n      <td>...</td>\n    </tr>\n    <tr>\n      <th>175</th>\n      <td>M5Z</td>\n      <td>Not assigned</td>\n      <td>Not assigned</td>\n    </tr>\n    <tr>\n      <th>176</th>\n      <td>M6Z</td>\n      <td>Not assigned</td>\n      <td>Not assigned</td>\n    </tr>\n    <tr>\n      <th>177</th>\n      <td>M7Z</td>\n      <td>Not assigned</td>\n      <td>Not assigned</td>\n    </tr>\n    <tr>\n      <th>178</th>\n      <td>M8Z</td>\n      <td>Etobicoke</td>\n      <td>Mimico NW, The Queensway West, South of Bloor,...</td>\n    </tr>\n    <tr>\n      <th>179</th>\n      <td>M9Z</td>\n      <td>Not assigned</td>\n      <td>Not assigned</td>\n    </tr>\n  </tbody>\n</table>\n<p>180 rows \u00d7 3 columns</p>\n</div>"
                    },
                    "metadata": {}
                }
            ]
        },
        {
            "metadata": {},
            "cell_type": "code",
            "source": "df_1=df.drop(df[df.Borough=='Not assigned'].index)\ndf_1",
            "execution_count": 14,
            "outputs": [
                {
                    "output_type": "execute_result",
                    "execution_count": 14,
                    "data": {
                        "text/plain": "    PostalCode           Borough  \\\n2          M3A        North York   \n3          M4A        North York   \n4          M5A  Downtown Toronto   \n5          M6A        North York   \n6          M7A  Downtown Toronto   \n..         ...               ...   \n160        M8X         Etobicoke   \n165        M4Y  Downtown Toronto   \n168        M7Y      East Toronto   \n169        M8Y         Etobicoke   \n178        M8Z         Etobicoke   \n\n                                         Neighbourhood  \n2                                            Parkwoods  \n3                                     Victoria Village  \n4                            Regent Park, Harbourfront  \n5                     Lawrence Manor, Lawrence Heights  \n6          Queen's Park, Ontario Provincial Government  \n..                                                 ...  \n160      The Kingsway, Montgomery Road, Old Mill North  \n165                               Church and Wellesley  \n168  Business reply mail Processing Centre, South C...  \n169  Old Mill South, King's Mill Park, Sunnylea, Hu...  \n178  Mimico NW, The Queensway West, South of Bloor,...  \n\n[103 rows x 3 columns]",
                        "text/html": "<div>\n<style scoped>\n    .dataframe tbody tr th:only-of-type {\n        vertical-align: middle;\n    }\n\n    .dataframe tbody tr th {\n        vertical-align: top;\n    }\n\n    .dataframe thead th {\n        text-align: right;\n    }\n</style>\n<table border=\"1\" class=\"dataframe\">\n  <thead>\n    <tr style=\"text-align: right;\">\n      <th></th>\n      <th>PostalCode</th>\n      <th>Borough</th>\n      <th>Neighbourhood</th>\n    </tr>\n  </thead>\n  <tbody>\n    <tr>\n      <th>2</th>\n      <td>M3A</td>\n      <td>North York</td>\n      <td>Parkwoods</td>\n    </tr>\n    <tr>\n      <th>3</th>\n      <td>M4A</td>\n      <td>North York</td>\n      <td>Victoria Village</td>\n    </tr>\n    <tr>\n      <th>4</th>\n      <td>M5A</td>\n      <td>Downtown Toronto</td>\n      <td>Regent Park, Harbourfront</td>\n    </tr>\n    <tr>\n      <th>5</th>\n      <td>M6A</td>\n      <td>North York</td>\n      <td>Lawrence Manor, Lawrence Heights</td>\n    </tr>\n    <tr>\n      <th>6</th>\n      <td>M7A</td>\n      <td>Downtown Toronto</td>\n      <td>Queen's Park, Ontario Provincial Government</td>\n    </tr>\n    <tr>\n      <th>...</th>\n      <td>...</td>\n      <td>...</td>\n      <td>...</td>\n    </tr>\n    <tr>\n      <th>160</th>\n      <td>M8X</td>\n      <td>Etobicoke</td>\n      <td>The Kingsway, Montgomery Road, Old Mill North</td>\n    </tr>\n    <tr>\n      <th>165</th>\n      <td>M4Y</td>\n      <td>Downtown Toronto</td>\n      <td>Church and Wellesley</td>\n    </tr>\n    <tr>\n      <th>168</th>\n      <td>M7Y</td>\n      <td>East Toronto</td>\n      <td>Business reply mail Processing Centre, South C...</td>\n    </tr>\n    <tr>\n      <th>169</th>\n      <td>M8Y</td>\n      <td>Etobicoke</td>\n      <td>Old Mill South, King's Mill Park, Sunnylea, Hu...</td>\n    </tr>\n    <tr>\n      <th>178</th>\n      <td>M8Z</td>\n      <td>Etobicoke</td>\n      <td>Mimico NW, The Queensway West, South of Bloor,...</td>\n    </tr>\n  </tbody>\n</table>\n<p>103 rows \u00d7 3 columns</p>\n</div>"
                    },
                    "metadata": {}
                }
            ]
        },
        {
            "metadata": {},
            "cell_type": "code",
            "source": "df_1.loc[df_1[\"Neighbourhood\"] == 'Not assigned', \"Neighbourhood\"] = df[\"Borough\"]",
            "execution_count": 16,
            "outputs": []
        },
        {
            "metadata": {},
            "cell_type": "code",
            "source": "df_1.Neighbourhood.str.count(\"Not assigned\").sum()",
            "execution_count": 18,
            "outputs": [
                {
                    "output_type": "execute_result",
                    "execution_count": 18,
                    "data": {
                        "text/plain": "0"
                    },
                    "metadata": {}
                }
            ]
        },
        {
            "metadata": {},
            "cell_type": "code",
            "source": "df.shape",
            "execution_count": 19,
            "outputs": [
                {
                    "output_type": "execute_result",
                    "execution_count": 19,
                    "data": {
                        "text/plain": "(180, 3)"
                    },
                    "metadata": {}
                }
            ]
        },
        {
            "metadata": {},
            "cell_type": "code",
            "source": "df_1.shape",
            "execution_count": 20,
            "outputs": [
                {
                    "output_type": "execute_result",
                    "execution_count": 20,
                    "data": {
                        "text/plain": "(103, 3)"
                    },
                    "metadata": {}
                }
            ]
        },
        {
            "metadata": {},
            "cell_type": "code",
            "source": "",
            "execution_count": null,
            "outputs": []
        },
        {
            "metadata": {},
            "cell_type": "code",
            "source": "",
            "execution_count": null,
            "outputs": []
        },
        {
            "metadata": {},
            "cell_type": "code",
            "source": "",
            "execution_count": null,
            "outputs": []
        },
        {
            "metadata": {},
            "cell_type": "code",
            "source": "",
            "execution_count": null,
            "outputs": []
        },
        {
            "metadata": {},
            "cell_type": "code",
            "source": "",
            "execution_count": null,
            "outputs": []
        },
        {
            "metadata": {},
            "cell_type": "code",
            "source": "",
            "execution_count": null,
            "outputs": []
        },
        {
            "metadata": {},
            "cell_type": "code",
            "source": "",
            "execution_count": null,
            "outputs": []
        },
        {
            "metadata": {},
            "cell_type": "code",
            "source": "",
            "execution_count": null,
            "outputs": []
        },
        {
            "metadata": {},
            "cell_type": "code",
            "source": "",
            "execution_count": null,
            "outputs": []
        },
        {
            "metadata": {},
            "cell_type": "code",
            "source": "",
            "execution_count": 31,
            "outputs": []
        },
        {
            "metadata": {},
            "cell_type": "code",
            "source": "",
            "execution_count": null,
            "outputs": []
        },
        {
            "metadata": {},
            "cell_type": "code",
            "source": "",
            "execution_count": null,
            "outputs": []
        },
        {
            "metadata": {},
            "cell_type": "code",
            "source": "",
            "execution_count": null,
            "outputs": []
        },
        {
            "metadata": {},
            "cell_type": "code",
            "source": "",
            "execution_count": null,
            "outputs": []
        },
        {
            "metadata": {},
            "cell_type": "code",
            "source": "",
            "execution_count": null,
            "outputs": []
        },
        {
            "metadata": {},
            "cell_type": "code",
            "source": "",
            "execution_count": null,
            "outputs": []
        },
        {
            "metadata": {},
            "cell_type": "code",
            "source": "",
            "execution_count": null,
            "outputs": []
        },
        {
            "metadata": {},
            "cell_type": "code",
            "source": "",
            "execution_count": null,
            "outputs": []
        }
    ],
    "metadata": {
        "kernelspec": {
            "name": "python3",
            "display_name": "Python 3.7",
            "language": "python"
        },
        "language_info": {
            "name": "python",
            "version": "3.7.9",
            "mimetype": "text/x-python",
            "codemirror_mode": {
                "name": "ipython",
                "version": 3
            },
            "pygments_lexer": "ipython3",
            "nbconvert_exporter": "python",
            "file_extension": ".py"
        }
    },
    "nbformat": 4,
    "nbformat_minor": 1
}